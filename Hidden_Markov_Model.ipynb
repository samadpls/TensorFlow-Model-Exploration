{
  "nbformat": 4,
  "nbformat_minor": 0,
  "metadata": {
    "colab": {
      "provenance": [],
      "authorship_tag": "ABX9TyO8QyK87QpI2bJUGZsmbZ3o",
      "include_colab_link": true
    },
    "kernelspec": {
      "name": "python3",
      "display_name": "Python 3"
    },
    "language_info": {
      "name": "python"
    }
  },
  "cells": [
    {
      "cell_type": "markdown",
      "metadata": {
        "id": "view-in-github",
        "colab_type": "text"
      },
      "source": [
        "<a href=\"https://colab.research.google.com/github/samadpls/TensorFlow-Model-Exploration/blob/main/Hidden_Markov_Model.ipynb\" target=\"_parent\"><img src=\"https://colab.research.google.com/assets/colab-badge.svg\" alt=\"Open In Colab\"/></a>"
      ]
    },
    {
      "cell_type": "markdown",
      "source": [
        "### Weather Model Exploration and Hidden Markov Model\n",
        "**created by [samadpls](https://github.com/samadpls)**"
      ],
      "metadata": {
        "id": "u4xF01dpL-Cp"
      }
    },
    {
      "cell_type": "code",
      "execution_count": 1,
      "metadata": {
        "colab": {
          "base_uri": "https://localhost:8080/"
        },
        "id": "yWashTctLiOI",
        "outputId": "f8cc5d39-87ef-4be7-8d74-24d53756b7c6"
      },
      "outputs": [
        {
          "output_type": "stream",
          "name": "stdout",
          "text": [
            "Colab only includes TensorFlow 2.x; %tensorflow_version has no effect.\n"
          ]
        }
      ],
      "source": [
        "%tensorflow_version 2.x"
      ]
    },
    {
      "cell_type": "code",
      "source": [
        "import tensorflow_probability as tfp\n",
        "import tensorflow as tf"
      ],
      "metadata": {
        "id": "Gk-jm7D3Lqq0"
      },
      "execution_count": 2,
      "outputs": []
    },
    {
      "cell_type": "code",
      "source": [
        "tfd = tfp.distributions #loading module\n",
        "initial_distribution = tfd.Categorical(probs= [0.8, 0.2]) #80 % chance of being cold and 20% hot\n",
        "transition_distribution = tfd.Categorical(probs= [[0.7, 0.3],  #70 % chance of being hot and 30% cold\n",
        "                                                  [0.2, 0.8]])\n",
        "obs_distribution = tfd.Normal(loc=[0.,15.], scale=[5., 10.])\n",
        "# loc = mean , scale = standard devitation"
      ],
      "metadata": {
        "id": "UjfRACo5LuWn"
      },
      "execution_count": 3,
      "outputs": []
    },
    {
      "cell_type": "code",
      "source": [
        "model = tfd.HiddenMarkovModel(\n",
        "    initial_distribution = initial_distribution,\n",
        "    transition_distribution = transition_distribution,\n",
        "    observation_distribution = obs_distribution,\n",
        "    num_steps = 7  # how many days we want to predict\n",
        ")"
      ],
      "metadata": {
        "id": "w-xPuwDKLwXc"
      },
      "execution_count": 4,
      "outputs": []
    },
    {
      "cell_type": "code",
      "source": [
        "mean =  model.mean()\n",
        "\n",
        "with tf.compat.v1.Session() as sess:\n",
        "  print(mean.numpy())"
      ],
      "metadata": {
        "colab": {
          "base_uri": "https://localhost:8080/"
        },
        "id": "v0TSbNpMLy-K",
        "outputId": "3934e2c9-6302-4bc0-a1d6-c70be3ed2fa8"
      },
      "execution_count": 5,
      "outputs": [
        {
          "output_type": "stream",
          "name": "stdout",
          "text": [
            "[3.        5.9999995 7.4999995 8.25      8.625001  8.812501  8.90625  ]\n"
          ]
        }
      ]
    }
  ]
}